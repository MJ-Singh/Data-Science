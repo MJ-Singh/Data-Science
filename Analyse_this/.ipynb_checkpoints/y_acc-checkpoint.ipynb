{
 "cells": [
  {
   "cell_type": "code",
   "execution_count": 1,
   "metadata": {},
   "outputs": [
    {
     "name": "stderr",
     "output_type": "stream",
     "text": [
      "/home/itachi/anaconda3/lib/python3.6/site-packages/sklearn/cross_validation.py:41: DeprecationWarning: This module was deprecated in version 0.18 in favor of the model_selection module into which all the refactored classes and functions are moved. Also note that the interface of the new CV iterators are different from that of this module. This module will be removed in 0.20.\n",
      "  \"This module will be removed in 0.20.\", DeprecationWarning)\n",
      "/home/itachi/anaconda3/lib/python3.6/site-packages/sklearn/grid_search.py:42: DeprecationWarning: This module was deprecated in version 0.18 in favor of the model_selection module into which all the refactored classes and functions are moved. This module will be removed in 0.20.\n",
      "  DeprecationWarning)\n"
     ]
    }
   ],
   "source": [
    "import numpy as np\n",
    "import pandas as pd\n",
    "import seaborn as sns\n",
    "import matplotlib.pylab as plt\n",
    "from matplotlib.pylab import rcParams\n",
    "from sklearn import preprocessing\n",
    "from scipy.stats import skew\n",
    "from scipy.stats import boxcox\n",
    "\n",
    "# Additional scklearn functions\n",
    "from sklearn.model_selection import learning_curve\n",
    "from sklearn.model_selection import train_test_split\n",
    "from sklearn import cross_validation, metrics   \n",
    "from sklearn.grid_search import GridSearchCV   \n",
    "from sklearn.metrics import roc_curve, auc\n",
    "from sklearn.metrics import accuracy_score\n",
    "from sklearn.preprocessing import label_binarize\n",
    "from sklearn.metrics import confusion_matrix\n",
    "\n",
    "# Classifiers\n",
    "from sklearn.ensemble import AdaBoostClassifier\n",
    "from sklearn.ensemble import GradientBoostingClassifier  \n",
    "from sklearn.tree import DecisionTreeClassifier\n",
    "\n",
    "%matplotlib inline\n",
    "rcParams['figure.figsize'] = 12, 4"
   ]
  },
  {
   "cell_type": "code",
   "execution_count": 2,
   "metadata": {
    "collapsed": true
   },
   "outputs": [],
   "source": [
    "data = pd.read_csv(\"Training_Dataset.csv\")"
   ]
  },
  {
   "cell_type": "code",
   "execution_count": 3,
   "metadata": {
    "collapsed": true
   },
   "outputs": [],
   "source": [
    "data.drop(['mvar1','mvar12'], axis=1, inplace=True)\n",
    "\n",
    "data['card_extension'] = data['mvar46'] + 2*data['mvar47'] + 3*data['mvar48']\n",
    "data.drop(['mvar46', 'mvar47', 'mvar48'], axis=1, inplace=True)\n",
    "\n",
    "data['card_acceptance'] = data['mvar49'] + 2*data['mvar50'] + 3*data['mvar51']\n",
    "data.drop(['mvar49', 'mvar50', 'mvar51'], axis=1, inplace=True)"
   ]
  },
  {
   "cell_type": "code",
   "execution_count": 4,
   "metadata": {
    "collapsed": true
   },
   "outputs": [],
   "source": [
    "y_extension = data['card_extension']\n",
    "y_acceptance = data['card_acceptance']"
   ]
  },
  {
   "cell_type": "code",
   "execution_count": 5,
   "metadata": {
    "collapsed": true
   },
   "outputs": [],
   "source": [
    "def is_zero(s):\n",
    "    return s < 1\n",
    "\n",
    "var3 = data.pivot_table(values=[\"mvar3\"], index=[\"mvar2\",\"mvar4\",\"mvar14\",'card_extension',\"mvar15\"], aggfunc=np.mean)\n",
    "var9 = data.pivot_table(values=[\"mvar9\"], index=[\"mvar2\",\"mvar4\",\"mvar14\",'card_extension',\"mvar15\"], aggfunc=np.mean)\n",
    "\n",
    "for i,row in data.loc[is_zero(data['mvar3']),:].iterrows():\n",
    "    ind = tuple([row['mvar2'],row['mvar4'],row['mvar14'],row['card_extension']])\n",
    "    data.loc[i,'mvar3'] = var3.loc[ind].values[0]\n",
    "    \n",
    "for i,row in data.loc[is_zero(data['mvar9']),:].iterrows():\n",
    "    ind = tuple([row['mvar2'],row['mvar4'],row['mvar14'],row['card_extension']])\n",
    "    data.loc[i,'mvar9'] = var9.loc[ind].values[0]\n"
   ]
  },
  {
   "cell_type": "code",
   "execution_count": 6,
   "metadata": {},
   "outputs": [
    {
     "data": {
      "text/plain": [
       "Index(['mvar2', 'mvar3', 'mvar4', 'mvar5', 'mvar6', 'mvar7', 'mvar8', 'mvar9',\n",
       "       'mvar10', 'mvar11', 'mvar13', 'mvar14', 'mvar15', 'mvar16', 'mvar17',\n",
       "       'mvar18', 'mvar19', 'mvar20', 'mvar21', 'mvar22', 'mvar23', 'mvar24',\n",
       "       'mvar25', 'mvar26', 'mvar27', 'mvar28', 'mvar29', 'mvar30', 'mvar31',\n",
       "       'mvar32', 'mvar33', 'mvar34', 'mvar35', 'mvar36', 'mvar37', 'mvar38',\n",
       "       'mvar39', 'mvar40', 'mvar41', 'mvar42', 'mvar43', 'mvar44', 'mvar45'],\n",
       "      dtype='object')"
      ]
     },
     "execution_count": 6,
     "metadata": {},
     "output_type": "execute_result"
    }
   ],
   "source": [
    "data.drop(['cm_key','card_extension','card_acceptance'], axis=1, inplace=True)\n",
    "\"\"\"\n",
    "cor1 = data.corr()\n",
    "card1 = cor1['card_acceptance']\n",
    "\"\"\"\n",
    "data.columns\n"
   ]
  },
  {
   "cell_type": "code",
   "execution_count": 7,
   "metadata": {
    "collapsed": true
   },
   "outputs": [],
   "source": [
    "data['mvar2'] = boxcox(data['mvar2']+0.01)[0]\n",
    "data['mvar3'] = boxcox(data['mvar3']+100)[0]\n",
    "data['mvar4'] = np.cbrt(data['mvar4']+0.68)\n",
    "data['mvar6'] = np.cbrt(data['mvar6']+14.5)\n",
    "data['mvar7'] = boxcox(data['mvar7'])[0]\n",
    "data['mvar8'] = boxcox(data['mvar8']+0.009)[0]\n",
    "data['mvar9'] = boxcox(data['mvar9']+9)[0]\n",
    "data['mvar13'] = boxcox(data['mvar13']+1.8)[0]\n",
    "data['mvar15'] = boxcox(data['mvar15']+0.0000001)[0]\n",
    "data['mvar16'] = boxcox(data['mvar16']+0.4)[0]\n",
    "data['mvar17'] = boxcox(data['mvar17']+0.05)[0]\n",
    "data['mvar18'] = boxcox(data['mvar18']+0.018)[0]\n",
    "data['mvar19'] = boxcox(data['mvar19']+0.003)[0]\n",
    "data['mvar20'] = boxcox(data['mvar20']+0.2)[0]\n",
    "data['mvar21'] = boxcox(data['mvar21']+0.0000001)[0]\n",
    "data['mvar22'] = boxcox(data['mvar22']+0.0000001)[0]\n",
    "data['mvar23'] = boxcox(data['mvar23']+0.0000001)[0]\n",
    "data['mvar24'] = np.log(data['mvar24']+1)\n",
    "data['mvar25'] = np.log(data['mvar25']+1)\n",
    "data['mvar26'] = np.log(data['mvar26']+1)\n",
    "data['mvar27'] = np.log(data['mvar27']+1)\n",
    "data['mvar28'] = boxcox(data['mvar28']+0.0000001)[0]\n",
    "data['mvar29'] = boxcox(data['mvar29']+0.0000001)[0]\n",
    "data['mvar30'] = boxcox(data['mvar30']+0.0000001)[0]\n",
    "data['mvar31'] = boxcox(data['mvar31']+0.0000001)[0]\n",
    "data['mvar32'] = np.cbrt(data['mvar32']-2)\n",
    "data['mvar33'] = np.cbrt(data['mvar33']-2)\n",
    "data['mvar34'] = np.cbrt(data['mvar34']-2)\n",
    "data['mvar35'] = np.cbrt(data['mvar35']-2)\n",
    "data['mvar36'] = boxcox(data['mvar36']+7)[0]\n",
    "data['mvar37'] = boxcox(data['mvar37']+7)[0]\n",
    "data['mvar38'] = boxcox(data['mvar38']+7)[0]\n",
    "data['mvar39'] = boxcox(data['mvar39']+7)[0]\n",
    "data['mvar40'] = boxcox(data['mvar40']+0.0000001)[0]\n",
    "data['mvar41'] = boxcox(data['mvar41']+0.0000001)[0]\n",
    "data['mvar42'] = boxcox(data['mvar42']+0.0000001)[0]\n",
    "data['mvar43'] = boxcox(data['mvar43']+0.0000001)[0]\n",
    "\n",
    "std_scale = preprocessing.StandardScaler().fit(data)\n",
    "t_data = std_scale.transform(data)"
   ]
  },
  {
   "cell_type": "code",
   "execution_count": 10,
   "metadata": {},
   "outputs": [],
   "source": [
    "t_data = pd.DataFrame(t_data)\n",
    "t_data.columns = ['mvar2', 'mvar3', 'mvar4', 'mvar5', 'mvar6', 'mvar7', 'mvar8', 'mvar9',\n",
    "       'mvar10', 'mvar11', 'mvar13', 'mvar14', 'mvar15', 'mvar16', 'mvar17',\n",
    "       'mvar18', 'mvar19', 'mvar20', 'mvar21', 'mvar22', 'mvar23', 'mvar24',\n",
    "       'mvar25', 'mvar26', 'mvar27', 'mvar28', 'mvar29', 'mvar30', 'mvar31',\n",
    "       'mvar32', 'mvar33', 'mvar34', 'mvar35', 'mvar36', 'mvar37', 'mvar38',\n",
    "       'mvar39', 'mvar40', 'mvar41', 'mvar42', 'mvar43', 'mvar44', 'mvar45']"
   ]
  },
  {
   "cell_type": "code",
   "execution_count": null,
   "metadata": {
    "scrolled": false
   },
   "outputs": [],
   "source": [
    "\"\"\"\n",
    "cor2 = t_data.corr()\n",
    "card2 = cor2['card_acceptance']\n",
    "correlation = pd.concat([card1,card2], axis=1)\n",
    "\"\"\""
   ]
  },
  {
   "cell_type": "code",
   "execution_count": 11,
   "metadata": {},
   "outputs": [],
   "source": [
    "def transformation_plot(var, log_multiply, cbrt_sum, boxcox_var):\n",
    "    font = {'family': 'serif',\n",
    "            'color':  'darkred',\n",
    "            'weight': 'normal',\n",
    "            'size': 16,\n",
    "            }\n",
    "    print(\"feature : \",var.name)\n",
    "    plt.figure(figsize=(12, 12))\n",
    "    plt.subplot(411)\n",
    "    plt.title('Without transformation')\n",
    "    simple = var\n",
    "    skness = skew(simple)\n",
    "    plt.text(1,8000,\"Skewness: {0:.2f}\".format(skness),  fontdict=font)\n",
    "    plt.hist(simple)\n",
    "\n",
    "\n",
    "    plt.subplot(412) # equivalent to: plt.subplot(2, 2, 1)\n",
    "    plt.title('Log transformation')\n",
    "    log_var = np.log(log_multiply*var+1)\n",
    "    skness_log = skew(log_var)\n",
    "    plt.hist(log_var)\n",
    "    plt.text(1,8000,\"Skewness: {0:.2f}\".format(skness_log),  fontdict=font)\n",
    "\n",
    "    plt.subplot(413)\n",
    "    plt.title('cube root transformation')\n",
    "    cbrt_var = np.cbrt(var+cbrt_sum)\n",
    "    skness_cbrt = skew(cbrt_var)\n",
    "    plt.hist(cbrt_var)\n",
    "    plt.text(1,8000,\"Skewness: {0:.2f}\".format(skness_cbrt),  fontdict=font)\n",
    "    \n",
    "    plt.subplot(414)\n",
    "    plt.title('boxcox transformation')\n",
    "    boxcox_var = boxcox(var+boxcox_var)[0]\n",
    "    skness_boxcox = skew(boxcox_var)\n",
    "    plt.hist(boxcox_var)\n",
    "    plt.text(1,8000,\"Skewness: {0:.2f}\".format(skness_boxcox),  fontdict=font)\n",
    "    \n",
    "def classifier_report(clf, X_train, y_train, X_test, y_test, predictors, n_classes=3, classes=[1,2,3],performCV=True, printFeatureImportance=True, cv_folds=2):\n",
    "    \n",
    "    #Fit classifies on traning dataset\n",
    "    clf.fit(X_train[predictors], y_train)\n",
    "    \n",
    "    #Predict training and test set:\n",
    "    dtrain_predictions = clf.predict(X_train[predictors])\n",
    "    dtrain_predprob = clf.predict_proba(X_train[predictors])\n",
    "    prediction = clf.predict(X_test[predictors])\n",
    "    dtest_predprob = clf.predict_proba(X_test[predictors])\n",
    "    \n",
    "    #Perform cross-validation:\n",
    "    if performCV:\n",
    "        cv_score = cross_validation.cross_val_score(clf, X_train[predictors], y_train, cv=cv_folds)\n",
    "    \n",
    "    #Print model report:\n",
    "    print (\"\\nModel Report\")\n",
    "    print (\"Train Accuracy : %.4g\" % metrics.accuracy_score(y_train, dtrain_predictions))\n",
    "    print (\"Test Accuracy : %.4g\" % metrics.accuracy_score(y_test, prediction))\n",
    "\n",
    "    y = label_binarize(y_train, classes=classes)\n",
    "    # Compute ROC curve and ROC area for each class\n",
    "    fpr = dict()\n",
    "    tpr = dict()\n",
    "    roc_auc = dict()\n",
    "    for i in range(n_classes):\n",
    "        fpr[i], tpr[i], _ = roc_curve(y[:, i], dtrain_predprob[:, i])\n",
    "        roc_auc[i] = auc(fpr[i], tpr[i])\n",
    "\n",
    "    # Compute micro-average ROC curve and ROC area\n",
    "    fpr[\"micro\"], tpr[\"micro\"], _ = roc_curve(y.ravel(), dtrain_predprob.ravel())\n",
    "    roc_auc[\"micro\"] = auc(fpr[\"micro\"], tpr[\"micro\"])\n",
    "    print(\"AUC Score (Train): %f\" % roc_auc[\"micro\"])  \n",
    "    \n",
    "    y1 = label_binarize(y_test, classes=classes)\n",
    "    # Compute ROC curve and ROC area for each class\n",
    "    fpr1 = dict()\n",
    "    tpr1 = dict()\n",
    "    roc_auc1 = dict()\n",
    "    for i in range(n_classes):\n",
    "        fpr1[i], tpr1[i], _ = roc_curve(y1[:, i], dtest_predprob[:, i])\n",
    "        roc_auc1[i] = auc(fpr1[i], tpr1[i])\n",
    "\n",
    "    # Compute micro-average ROC curve and ROC area\n",
    "    fpr1[\"micro\"], tpr1[\"micro\"], _ = roc_curve(y1.ravel(), dtest_predprob.ravel())\n",
    "    roc_auc1[\"micro\"] = auc(fpr1[\"micro\"], tpr1[\"micro\"])\n",
    "    print(\"AUC Score (Test): %f\" % roc_auc1[\"micro\"])  \n",
    "    \n",
    "    if performCV:\n",
    "        print(\"CV Score : Mean - %.7g | Std - %.7g | Min - %.7g | Max - %.7g\" % (np.mean(cv_score),np.std(cv_score),np.min(cv_score),np.max(cv_score)))\n",
    "    \n",
    "    print(confusion_matrix(y_test, prediction))\n",
    "    \n",
    "    #Print Feature Importance:\n",
    "    if printFeatureImportance:\n",
    "        feat_imp = pd.Series(clf.feature_importances_, predictors).sort_values(ascending=False)\n",
    "        feat_imp.plot(kind='bar', title='Feature Importances')\n",
    "        plt.ylabel('Feature Importance Score')\n",
    "        \n",
    "def plot_learning_curve(estimator, title, X, y, ylim=None, cv=None,\n",
    "                        n_jobs=1, train_sizes=np.linspace(.1, 1.0, 5)):\n",
    "    #http://scikit-learn.org/stable/auto_examples/model_selection/plot_learning_curve.html\n",
    "    plt.figure()\n",
    "    plt.title(title)\n",
    "    if ylim is not None:\n",
    "        plt.ylim(*ylim)\n",
    "    plt.xlabel(\"Training examples\")\n",
    "    plt.ylabel(\"Score\")\n",
    "    train_sizes, train_scores, test_scores = learning_curve(\n",
    "        estimator, X, y, cv=cv, n_jobs=n_jobs, train_sizes=train_sizes)\n",
    "    train_scores_mean = np.mean(train_scores, axis=1)\n",
    "    train_scores_std = np.std(train_scores, axis=1)\n",
    "    test_scores_mean = np.mean(test_scores, axis=1)\n",
    "    test_scores_std = np.std(test_scores, axis=1)\n",
    "    plt.grid()\n",
    "\n",
    "    plt.fill_between(train_sizes, train_scores_mean - train_scores_std,\n",
    "                     train_scores_mean + train_scores_std, alpha=0.1,\n",
    "                     color=\"r\")\n",
    "    plt.fill_between(train_sizes, test_scores_mean - test_scores_std,\n",
    "                     test_scores_mean + test_scores_std, alpha=0.1, color=\"g\")\n",
    "    plt.plot(train_sizes, train_scores_mean, 'o-', color=\"r\",\n",
    "             label=\"Training score\")\n",
    "    plt.plot(train_sizes, test_scores_mean, 'o-', color=\"g\",\n",
    "             label=\"Cross-validation score\")\n",
    "\n",
    "    plt.legend(loc=\"best\")\n",
    "    plt.show()"
   ]
  },
  {
   "cell_type": "code",
   "execution_count": 20,
   "metadata": {},
   "outputs": [],
   "source": [
    "X1_train, X1_test,y_train_acceptance,y_test_acceptance,y_train_extension,y_test_extension = train_test_split(t_data, y_acceptance, y_extension, test_size=0.20,stratify=y_acceptance, random_state=659)"
   ]
  },
  {
   "cell_type": "code",
   "execution_count": 21,
   "metadata": {
    "collapsed": true
   },
   "outputs": [],
   "source": [
    "from sklearn.cluster import KMeans\n",
    "from sklearn.decomposition import PCA\n",
    "\n",
    "# on non-standardized data\n",
    "pca = PCA(n_components=25).fit(t_data)\n",
    "X2_train = pca.transform(X1_train)\n",
    "X2_test = pca.transform(X1_test)\n"
   ]
  },
  {
   "cell_type": "code",
   "execution_count": 22,
   "metadata": {},
   "outputs": [
    {
     "name": "stdout",
     "output_type": "stream",
     "text": [
      "(32000, 43, 8000, 43)\n",
      "(32000, 25, 8000, 25)\n",
      "(32000, 68, 8000, 68)\n"
     ]
    }
   ],
   "source": [
    "#model = KMeans(n_clusters = 15, max_iter = 2000, init = 'k-means++', random_state=453)\n",
    "#model.fit(X2_train)\n",
    "#print (model.inertia_)\n",
    "\n",
    "X2_train = pd.DataFrame(X2_train)\n",
    "X2_test = pd.DataFrame(X2_test)\n",
    "\n",
    "X1_train.reset_index(drop=True, inplace=True)\n",
    "X1_test.reset_index(drop=True, inplace=True)\n",
    "\n",
    "X_train = pd.concat([X1_train, X2_train], ignore_index=True, axis=1)\n",
    "X_test = pd.concat([X1_test, X2_test], ignore_index=True, axis=1)\n",
    "\n",
    "print(X1_train.shape + X1_test.shape)\n",
    "print(X2_train.shape + X2_test.shape)\n",
    "print(X_train.shape + X_test.shape)"
   ]
  },
  {
   "cell_type": "code",
   "execution_count": 27,
   "metadata": {},
   "outputs": [
    {
     "name": "stdout",
     "output_type": "stream",
     "text": [
      "Original dataset shape Counter({0: 24897, 1: 2758, 3: 2222, 2: 2123})\n",
      "Resampled dataset shape Counter({2: 2123, 0: 2123, 3: 2123, 1: 2123})\n"
     ]
    }
   ],
   "source": [
    "from collections import Counter\n",
    "from imblearn.under_sampling import RandomUnderSampler\n",
    "\n",
    "print('Original dataset shape {}'.format(Counter(y_train_acceptance)))\n",
    "rus = RandomUnderSampler(random_state=659)\n",
    "X_sample, y_sample = rus.fit_sample(X_train, y_train_acceptance)\n",
    "print('Resampled dataset shape {}'.format(Counter(y_sample)))"
   ]
  },
  {
   "cell_type": "code",
   "execution_count": 37,
   "metadata": {},
   "outputs": [
    {
     "name": "stdout",
     "output_type": "stream",
     "text": [
      "\n",
      "Model Report\n",
      "Train Accuracy : 0.8097\n",
      "Test Accuracy : 0.4093\n",
      "AUC Score (Train): 0.958571\n",
      "AUC Score (Test): 0.743109\n",
      "CV Score : Mean - 0.6199958 | Std - 0.001116343 | Min - 0.6188795 | Max - 0.6211122\n",
      "[[2105 1384 1570 1166]\n",
      " [ 141  384  107   57]\n",
      " [  56   27  423   25]\n",
      " [  73   40   80  362]]\n"
     ]
    },
    {
     "data": {
      "image/png": "[encoded data removed]",
      "text/plain": [
       "<matplotlib.figure.Figure at 0x7feb783cacf8>"
      ]
     },
     "metadata": {},
     "output_type": "display_data"
    }
   ],
   "source": [
    "from xgboost import XGBClassifier\n",
    "\n",
    "predictors = [x for x in X_test.columns]\n",
    "X_sample = pd.DataFrame(X_sample)\n",
    "xgb = XGBClassifier(max_depth=5, learning_rate=0.01, n_estimators=1000, objective='binary:logistic',\n",
    "                    nthread=-1, gamma=0, min_child_weight=6, subsample=0.80, colsample_bytree=1,\n",
    "                    scale_pos_weight=1)\n",
    "\n",
    "classifier_report(xgb, X_sample, y_sample, X_test, y_test_acceptance, predictors, 4, [0,1,2,3])\n",
    "\n",
    "#plot_learning_curve(xgb,\"Learning\", X_train, y_train_extension)"
   ]
  },
  {
   "cell_type": "code",
   "execution_count": 31,
   "metadata": {},
   "outputs": [
    {
     "name": "stdout",
     "output_type": "stream",
     "text": [
      "full confidence\n",
      "[[    0 24897]\n",
      " [    1  2758]\n",
      " [    2  2123]\n",
      " [    3  2222]]\n",
      "*********************\n",
      "full confidence\n",
      "[[   0 6225]\n",
      " [   1  689]\n",
      " [   2  531]\n",
      " [   3  555]]\n"
     ]
    }
   ],
   "source": [
    "unique, counts = np.unique(y_train_acceptance, return_counts=True)\n",
    "print('full confidence')\n",
    "print(np.asarray((unique, counts)).T)\n",
    "\n",
    "print(\"*********************\")\n",
    "\n",
    "unique, counts = np.unique(y_test_acceptance, return_counts=True)\n",
    "print('full confidence')\n",
    "print(np.asarray((unique, counts)).T)"
   ]
  },
  {
   "cell_type": "code",
   "execution_count": 80,
   "metadata": {},
   "outputs": [
    {
     "data": {
      "text/plain": [
       "(9603, 68)"
      ]
     },
     "execution_count": 80,
     "metadata": {},
     "output_type": "execute_result"
    }
   ],
   "source": [
    "X_train.reset_index(drop=True, inplace=True)\n",
    "y_train_acceptance.reset_index(drop=True, inplace=True)\n",
    "newdata = pd.concat([X_train, y_train_acceptance], axis=1)\n",
    "\n",
    "zero = newdata[newdata['card_acceptance'] == 0]\n",
    "one = newdata[newdata['card_acceptance'] == 1]\n",
    "two = newdata[newdata['card_acceptance'] == 2]\n",
    "three = newdata[newdata['card_acceptance'] == 3]\n",
    "\n",
    "zero = zero[:2500]\n",
    "train = pd.concat([zero,one,two,three], axis=0)\n",
    "\n",
    "y_train = train['card_acceptance']\n",
    "train.drop('card_acceptance', axis=1, inplace=True)\n",
    "\n",
    "train = pd.DataFrame(train)\n",
    "train.shape"
   ]
  },
  {
   "cell_type": "code",
   "execution_count": 99,
   "metadata": {},
   "outputs": [
    {
     "name": "stdout",
     "output_type": "stream",
     "text": [
      "0.9684473602\n",
      "0.396625\n",
      "[[1905 1890 1307 1123]\n",
      " [  93  484   67   45]\n",
      " [  62   30  415   24]\n",
      " [  75   51   60  369]]\n"
     ]
    }
   ],
   "source": [
    "predictors = [x for x in train.columns]\n",
    "\n",
    "xgb = XGBClassifier(max_depth=8, learning_rate=0.01, n_estimators=1100, objective='binary:logistic',\n",
    "                    nthread=-1, gamma=0, min_child_weight=6, subsample=0.80, colsample_bytree=1,\n",
    "                    scale_pos_weight=1)\n",
    "\n",
    "xgb.fit(train,y_train)\n",
    "prediction = xgb.predict(X_test)\n",
    "print(xgb.score(train,y_train))\n",
    "print(xgb.score(X_test,y_test_acceptance))\n",
    "print(confusion_matrix(y_test_acceptance, prediction))\n",
    "#classifier_report(xgb, train, y_train, X_test, y_test_acceptance, predictors, 4, [0,1,2,3])"
   ]
  },
  {
   "cell_type": "code",
   "execution_count": null,
   "metadata": {
    "collapsed": true
   },
   "outputs": [],
   "source": []
  }
 ],
 "metadata": {
  "kernelspec": {
   "display_name": "Python 3",
   "language": "python",
   "name": "python3"
  },
  "language_info": {
   "codemirror_mode": {
    "name": "ipython",
    "version": 3
   },
   "file_extension": ".py",
   "mimetype": "text/x-python",
   "name": "python",
   "nbconvert_exporter": "python",
   "pygments_lexer": "ipython3",
   "version": "3.6.1"
  }
 },
 "nbformat": 4,
 "nbformat_minor": 2
}
