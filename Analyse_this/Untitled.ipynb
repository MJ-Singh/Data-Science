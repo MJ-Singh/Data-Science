{
 "cells": [
  {
   "cell_type": "code",
   "execution_count": 62,
   "metadata": {},
   "outputs": [],
   "source": [
    "import numpy as np\n",
    "import pandas as pd\n",
    "import seaborn as sns\n",
    "import matplotlib.pylab as plt\n",
    "from matplotlib.pylab import rcParams\n",
    "\n",
    "# Additional scklearn functions\n",
    "from sklearn.preprocessing import MinMaxScaler\n",
    "from sklearn.model_selection import train_test_split\n",
    "from sklearn import cross_validation, metrics   \n",
    "from sklearn.grid_search import GridSearchCV   \n",
    "from sklearn.metrics import roc_curve, auc\n",
    "from sklearn.metrics import accuracy_score\n",
    "from sklearn.preprocessing import label_binarize\n",
    "\n",
    "# Classifiers\n",
    "from sklearn.ensemble import AdaBoostClassifier\n",
    "from sklearn.ensemble import GradientBoostingClassifier  \n",
    "from sklearn.tree import DecisionTreeClassifier\n",
    "\n",
    "%matplotlib inline\n",
    "rcParams['figure.figsize'] = 12, 4\n"
   ]
  },
  {
   "cell_type": "code",
   "execution_count": 63,
   "metadata": {
    "collapsed": true
   },
   "outputs": [],
   "source": [
    "data = pd.read_csv(\"Training_Dataset.csv\")"
   ]
  },
  {
   "cell_type": "code",
   "execution_count": 64,
   "metadata": {
    "collapsed": true
   },
   "outputs": [],
   "source": [
    "data.drop('mvar1', axis=1, inplace=True)\n",
    "\n",
    "cool = pd.get_dummies(data['mvar12'])\n",
    "data = pd.concat([data, cool], axis=1)\n",
    "data.drop(['mvar12'], axis=1, inplace=True)\n",
    "\n",
    "data['card_extension'] = data['mvar46'] + 2*data['mvar47'] + 3*data['mvar48']\n",
    "data.drop(['mvar46', 'mvar47', 'mvar48'], axis=1, inplace=True)\n",
    "\n",
    "data['card_acceptance'] = data['mvar49'] + 2*data['mvar50'] + 3*data['mvar51']\n",
    "data.drop(['mvar49', 'mvar50', 'mvar51'], axis=1, inplace=True)"
   ]
  },
  {
   "cell_type": "code",
   "execution_count": 65,
   "metadata": {
    "collapsed": true
   },
   "outputs": [],
   "source": [
    "y_extension = data['card_extension']\n",
    "y_acceptance = data['card_acceptance']\n",
    "data.drop(['cm_key','card_extension','card_acceptance','Finance            ', 'Entertainment      ', 'Manufacturing      ', 'Apparel','Transport          ', 'Produce            ', 'Construction       ', 'Mining             ', 'Durable goods      '], \n",
    "              axis=1, inplace=True)\n",
    "scaler = MinMaxScaler()\n",
    "data = pd.DataFrame(scaler.fit_transform(data), columns=data.columns)\n"
   ]
  },
  {
   "cell_type": "code",
   "execution_count": 66,
   "metadata": {
    "collapsed": true
   },
   "outputs": [],
   "source": [
    "#X_train, X_test,y_train_acceptance,y_test_acceptance = train_test_split(data,y_acceptance, test_size=0.33,stratify=y_acceptance)\n"
   ]
  },
  {
   "cell_type": "code",
   "execution_count": 67,
   "metadata": {},
   "outputs": [],
   "source": [
    "from imblearn.under_sampling import RandomUnderSampler\n",
    "from collections import Counter"
   ]
  },
  {
   "cell_type": "code",
   "execution_count": 68,
   "metadata": {},
   "outputs": [
    {
     "name": "stdout",
     "output_type": "stream",
     "text": [
      "Original dataset shape Counter({0: 31122, 1: 3447, 3: 2777, 2: 2654})\n"
     ]
    }
   ],
   "source": [
    "print('Original dataset shape {}'.format(Counter(y_acceptance)))"
   ]
  },
  {
   "cell_type": "code",
   "execution_count": 69,
   "metadata": {},
   "outputs": [],
   "source": [
    "oss = RandomUnderSampler(random_state=42)\n",
    "data1, y_acceptance1 = oss.fit_sample(data, y_acceptance)"
   ]
  },
  {
   "cell_type": "code",
   "execution_count": 70,
   "metadata": {},
   "outputs": [
    {
     "name": "stdout",
     "output_type": "stream",
     "text": [
      "Resampled dataset shape Counter({2: 2654, 0: 2654, 3: 2654, 1: 2654})\n",
      "(10616, 52)\n"
     ]
    },
    {
     "data": {
      "text/plain": [
       "10616"
      ]
     },
     "execution_count": 70,
     "metadata": {},
     "output_type": "execute_result"
    }
   ],
   "source": [
    "print('Resampled dataset shape {}'.format(Counter(y_acceptance1)))\n",
    "print(data1.shape)\n",
    "len(y_acceptance1)"
   ]
  },
  {
   "cell_type": "code",
   "execution_count": 71,
   "metadata": {},
   "outputs": [],
   "source": [
    "X_train, X_test,y_train_acceptance,y_test_acceptance = train_test_split(data1,y_acceptance1, test_size=0.25,stratify=y_acceptance1)\n"
   ]
  },
  {
   "cell_type": "code",
   "execution_count": 72,
   "metadata": {
    "collapsed": true
   },
   "outputs": [],
   "source": [
    "def classifier_report(clf, X_train, y_train, X_test, y_test, predictors, n_classes=3, classes=[1,2,3],performCV=True, printFeatureImportance=True, cv_folds=2):\n",
    "    \n",
    "    #Fit classifies on traning dataset\n",
    "    clf.fit(X_train[predictors], y_train)\n",
    "    \n",
    "    #Predict training and test set:\n",
    "    dtrain_predictions = clf.predict(X_train[predictors])\n",
    "    dtrain_predprob = clf.predict_proba(X_train[predictors])\n",
    "    prediction = clf.predict(X_test[predictors])\n",
    "    dtest_predprob = clf.predict_proba(X_test[predictors])\n",
    "    \n",
    "    #Print model report:\n",
    "    print (\"\\nModel Report\")\n",
    "    print (\"Train Accuracy : %.4g\" % metrics.accuracy_score(y_train, dtrain_predictions))\n",
    "    print (\"Test Accuracy : %.4g\" % metrics.accuracy_score(y_test, prediction))\n",
    "\n",
    "    y = label_binarize(y_train, classes=classes)\n",
    "    # Compute ROC curve and ROC area for each class\n",
    "    fpr = dict()\n",
    "    tpr = dict()\n",
    "    roc_auc = dict()\n",
    "    for i in range(n_classes):\n",
    "        fpr[i], tpr[i], _ = roc_curve(y[:, i], dtrain_predprob[:, i])\n",
    "        roc_auc[i] = auc(fpr[i], tpr[i])\n",
    "\n",
    "    # Compute micro-average ROC curve and ROC area\n",
    "    fpr[\"micro\"], tpr[\"micro\"], _ = roc_curve(y.ravel(), dtrain_predprob.ravel())\n",
    "    roc_auc[\"micro\"] = auc(fpr[\"micro\"], tpr[\"micro\"])\n",
    "    print(\"AUC Score (Train): %f\" % roc_auc[\"micro\"])  \n",
    "    \n",
    "    y1 = label_binarize(y_test, classes=classes)\n",
    "    # Compute ROC curve and ROC area for each class\n",
    "    fpr1 = dict()\n",
    "    tpr1 = dict()\n",
    "    roc_auc1 = dict()\n",
    "    for i in range(n_classes):\n",
    "        fpr1[i], tpr1[i], _ = roc_curve(y1[:, i], dtest_predprob[:, i])\n",
    "        roc_auc1[i] = auc(fpr1[i], tpr1[i])\n",
    "\n",
    "    # Compute micro-average ROC curve and ROC area\n",
    "    fpr1[\"micro\"], tpr1[\"micro\"], _ = roc_curve(y1.ravel(), dtest_predprob.ravel())\n",
    "    roc_auc1[\"micro\"] = auc(fpr1[\"micro\"], tpr1[\"micro\"])\n",
    "    print(\"AUC Score (Test): %f\" % roc_auc1[\"micro\"])  \n",
    "    \n",
    "    #Print Feature Importance:\n",
    "    if printFeatureImportance:\n",
    "        feat_imp = pd.Series(clf.feature_importances_, predictors).sort_values(ascending=False)\n",
    "        feat_imp.plot(kind='bar', title='Feature Importances')\n",
    "        plt.ylabel('Feature Importance Score')"
   ]
  },
  {
   "cell_type": "code",
   "execution_count": 73,
   "metadata": {
    "scrolled": true
   },
   "outputs": [],
   "source": [
    "X_train = pd.DataFrame(X_train)\n",
    "X_test = pd.DataFrame(X_test)\n"
   ]
  },
  {
   "cell_type": "code",
   "execution_count": 142,
   "metadata": {},
   "outputs": [
    {
     "name": "stdout",
     "output_type": "stream",
     "text": [
      "\n",
      "Model Report\n",
      "Train Accuracy : 0.9995\n",
      "Test Accuracy : 0.6345\n",
      "AUC Score (Train): 0.999999\n",
      "AUC Score (Test): 0.863041\n"
     ]
    },
    {
     "data": {
      "image/png": "[encoded data removed]",
      "text/plain": [
       "<matplotlib.figure.Figure at 0x7f902347fdd8>"
      ]
     },
     "metadata": {},
     "output_type": "display_data"
    }
   ],
   "source": [
    "predictors = [x for x in X_test.columns]\n",
    "gbm1 = GradientBoostingClassifier(learning_rate=0.1,\n",
    "                                  n_estimators=350,\n",
    "                                  min_samples_split=30,\n",
    "                                  min_samples_leaf=50,\n",
    "                                  max_depth=8,\n",
    "                                  max_features=11,\n",
    "                                  subsample=0.8,\n",
    "                                  random_state=19)\n",
    "\n",
    "classifier_report(gbm1, X_train, y_train_acceptance, X_test, y_test_acceptance, predictors, 4, [0,1,2,3])"
   ]
  },
  {
   "cell_type": "code",
   "execution_count": 102,
   "metadata": {
    "collapsed": true
   },
   "outputs": [],
   "source": [
    "#ClusterCentroids"
   ]
  },
  {
   "cell_type": "code",
   "execution_count": 103,
   "metadata": {
    "collapsed": true
   },
   "outputs": [],
   "source": [
    "con_pred = gbm1.predict(data)"
   ]
  },
  {
   "cell_type": "code",
   "execution_count": 104,
   "metadata": {},
   "outputs": [
    {
     "name": "stdout",
     "output_type": "stream",
     "text": [
      "full confidence\n",
      "[[    0 13238]\n",
      " [    1  8592]\n",
      " [    2 10797]\n",
      " [    3  7373]]\n"
     ]
    }
   ],
   "source": [
    "unique, counts = np.unique(con_pred, return_counts=True)\n",
    "print('full confidence')\n",
    "print(np.asarray((unique, counts)).T)\n"
   ]
  },
  {
   "cell_type": "code",
   "execution_count": null,
   "metadata": {
    "collapsed": true
   },
   "outputs": [],
   "source": []
  }
 ],
 "metadata": {
  "kernelspec": {
   "display_name": "Python 3",
   "language": "python",
   "name": "python3"
  },
  "language_info": {
   "codemirror_mode": {
    "name": "ipython",
    "version": 3
   },
   "file_extension": ".py",
   "mimetype": "text/x-python",
   "name": "python",
   "nbconvert_exporter": "python",
   "pygments_lexer": "ipython3",
   "version": "3.6.1"
  }
 },
 "nbformat": 4,
 "nbformat_minor": 2
}
